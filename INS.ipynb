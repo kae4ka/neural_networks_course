{
  "nbformat": 4,
  "nbformat_minor": 0,
  "metadata": {
    "colab": {
      "provenance": [],
      "collapsed_sections": [],
      "authorship_tag": "ABX9TyNgy5mwRNmjXr7EZyHIR4+1",
      "include_colab_link": true
    },
    "kernelspec": {
      "name": "python3",
      "display_name": "Python 3"
    },
    "language_info": {
      "name": "python"
    }
  },
  "cells": [
    {
      "cell_type": "markdown",
      "metadata": {
        "id": "view-in-github",
        "colab_type": "text"
      },
      "source": [
        "<a href=\"https://colab.research.google.com/github/kae4ka/neural_networks_course/blob/main/INS.ipynb\" target=\"_parent\"><img src=\"https://colab.research.google.com/assets/colab-badge.svg\" alt=\"Open In Colab\"/></a>"
      ]
    },
    {
      "cell_type": "markdown",
      "source": [
        "# 1. Обучение однослойного персептрона решению линейно разделимых задач. Функции «And» и «Or». Метод простого перебора\n",
        "\n"
      ],
      "metadata": {
        "id": "yjlHb7cpJcr8"
      }
    },
    {
      "cell_type": "markdown",
      "source": [
        "* Два входа, один выход\n",
        "* Обучающая выборка – таблицы истинности\n",
        "* Функция активация – ступенчатая\n",
        "* Значения весов перебирать в цикле (например, от -1 до +1 с шагом 0.1)\n",
        "* Ошибку считать по МНК\n",
        "* Запоминать все значения весов, при которых ошибка равна 0"
      ],
      "metadata": {
        "id": "bZlfudH2jiPK"
      }
    },
    {
      "cell_type": "markdown",
      "source": [
        "![image.png](data:image/png;base64,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)"
      ],
      "metadata": {
        "id": "xH2ROG-0Mnip"
      }
    },
    {
      "cell_type": "code",
      "source": [
        "import numpy as np\n",
        "import pandas as pd\n",
        "\n",
        "x = np.array([[0, 0], [0, 1], [1, 0], [1, 1]])\n",
        "y_or = np.array([0, 1, 1, 1])\n",
        "y_and = np.array([0, 0, 0, 1])\n",
        "w_or = []\n",
        "w_and = []\n",
        "y_pred_or = []\n",
        "y_pred_and = []\n",
        "\n",
        "df = pd.DataFrame({'X1': x[:, 0], 'X2': x[:, 1],\n",
        "                  'OR': y_or, 'AND': y_and},\n",
        "                  columns=['X1', 'X2', 'OR', 'AND'])\n",
        "df"
      ],
      "metadata": {
        "colab": {
          "base_uri": "https://localhost:8080/",
          "height": 175
        },
        "id": "VfcS4-T98di0",
        "outputId": "ac3c0f21-b566-4e8f-cfe7-9c7d75706872"
      },
      "execution_count": 42,
      "outputs": [
        {
          "output_type": "execute_result",
          "data": {
            "text/plain": [
              "   X1  X2  OR  AND\n",
              "0   0   0   0    0\n",
              "1   0   1   1    0\n",
              "2   1   0   1    0\n",
              "3   1   1   1    1"
            ],
            "text/html": [
              "\n",
              "  <div id=\"df-fed69580-cfda-4ec5-b0eb-4e7ac7c16a95\">\n",
              "    <div class=\"colab-df-container\">\n",
              "      <div>\n",
              "<style scoped>\n",
              "    .dataframe tbody tr th:only-of-type {\n",
              "        vertical-align: middle;\n",
              "    }\n",
              "\n",
              "    .dataframe tbody tr th {\n",
              "        vertical-align: top;\n",
              "    }\n",
              "\n",
              "    .dataframe thead th {\n",
              "        text-align: right;\n",
              "    }\n",
              "</style>\n",
              "<table border=\"1\" class=\"dataframe\">\n",
              "  <thead>\n",
              "    <tr style=\"text-align: right;\">\n",
              "      <th></th>\n",
              "      <th>X1</th>\n",
              "      <th>X2</th>\n",
              "      <th>OR</th>\n",
              "      <th>AND</th>\n",
              "    </tr>\n",
              "  </thead>\n",
              "  <tbody>\n",
              "    <tr>\n",
              "      <th>0</th>\n",
              "      <td>0</td>\n",
              "      <td>0</td>\n",
              "      <td>0</td>\n",
              "      <td>0</td>\n",
              "    </tr>\n",
              "    <tr>\n",
              "      <th>1</th>\n",
              "      <td>0</td>\n",
              "      <td>1</td>\n",
              "      <td>1</td>\n",
              "      <td>0</td>\n",
              "    </tr>\n",
              "    <tr>\n",
              "      <th>2</th>\n",
              "      <td>1</td>\n",
              "      <td>0</td>\n",
              "      <td>1</td>\n",
              "      <td>0</td>\n",
              "    </tr>\n",
              "    <tr>\n",
              "      <th>3</th>\n",
              "      <td>1</td>\n",
              "      <td>1</td>\n",
              "      <td>1</td>\n",
              "      <td>1</td>\n",
              "    </tr>\n",
              "  </tbody>\n",
              "</table>\n",
              "</div>\n",
              "      <button class=\"colab-df-convert\" onclick=\"convertToInteractive('df-fed69580-cfda-4ec5-b0eb-4e7ac7c16a95')\"\n",
              "              title=\"Convert this dataframe to an interactive table.\"\n",
              "              style=\"display:none;\">\n",
              "        \n",
              "  <svg xmlns=\"http://www.w3.org/2000/svg\" height=\"24px\"viewBox=\"0 0 24 24\"\n",
              "       width=\"24px\">\n",
              "    <path d=\"M0 0h24v24H0V0z\" fill=\"none\"/>\n",
              "    <path d=\"M18.56 5.44l.94 2.06.94-2.06 2.06-.94-2.06-.94-.94-2.06-.94 2.06-2.06.94zm-11 1L8.5 8.5l.94-2.06 2.06-.94-2.06-.94L8.5 2.5l-.94 2.06-2.06.94zm10 10l.94 2.06.94-2.06 2.06-.94-2.06-.94-.94-2.06-.94 2.06-2.06.94z\"/><path d=\"M17.41 7.96l-1.37-1.37c-.4-.4-.92-.59-1.43-.59-.52 0-1.04.2-1.43.59L10.3 9.45l-7.72 7.72c-.78.78-.78 2.05 0 2.83L4 21.41c.39.39.9.59 1.41.59.51 0 1.02-.2 1.41-.59l7.78-7.78 2.81-2.81c.8-.78.8-2.07 0-2.86zM5.41 20L4 18.59l7.72-7.72 1.47 1.35L5.41 20z\"/>\n",
              "  </svg>\n",
              "      </button>\n",
              "      \n",
              "  <style>\n",
              "    .colab-df-container {\n",
              "      display:flex;\n",
              "      flex-wrap:wrap;\n",
              "      gap: 12px;\n",
              "    }\n",
              "\n",
              "    .colab-df-convert {\n",
              "      background-color: #E8F0FE;\n",
              "      border: none;\n",
              "      border-radius: 50%;\n",
              "      cursor: pointer;\n",
              "      display: none;\n",
              "      fill: #1967D2;\n",
              "      height: 32px;\n",
              "      padding: 0 0 0 0;\n",
              "      width: 32px;\n",
              "    }\n",
              "\n",
              "    .colab-df-convert:hover {\n",
              "      background-color: #E2EBFA;\n",
              "      box-shadow: 0px 1px 2px rgba(60, 64, 67, 0.3), 0px 1px 3px 1px rgba(60, 64, 67, 0.15);\n",
              "      fill: #174EA6;\n",
              "    }\n",
              "\n",
              "    [theme=dark] .colab-df-convert {\n",
              "      background-color: #3B4455;\n",
              "      fill: #D2E3FC;\n",
              "    }\n",
              "\n",
              "    [theme=dark] .colab-df-convert:hover {\n",
              "      background-color: #434B5C;\n",
              "      box-shadow: 0px 1px 3px 1px rgba(0, 0, 0, 0.15);\n",
              "      filter: drop-shadow(0px 1px 2px rgba(0, 0, 0, 0.3));\n",
              "      fill: #FFFFFF;\n",
              "    }\n",
              "  </style>\n",
              "\n",
              "      <script>\n",
              "        const buttonEl =\n",
              "          document.querySelector('#df-fed69580-cfda-4ec5-b0eb-4e7ac7c16a95 button.colab-df-convert');\n",
              "        buttonEl.style.display =\n",
              "          google.colab.kernel.accessAllowed ? 'block' : 'none';\n",
              "\n",
              "        async function convertToInteractive(key) {\n",
              "          const element = document.querySelector('#df-fed69580-cfda-4ec5-b0eb-4e7ac7c16a95');\n",
              "          const dataTable =\n",
              "            await google.colab.kernel.invokeFunction('convertToInteractive',\n",
              "                                                     [key], {});\n",
              "          if (!dataTable) return;\n",
              "\n",
              "          const docLinkHtml = 'Like what you see? Visit the ' +\n",
              "            '<a target=\"_blank\" href=https://colab.research.google.com/notebooks/data_table.ipynb>data table notebook</a>'\n",
              "            + ' to learn more about interactive tables.';\n",
              "          element.innerHTML = '';\n",
              "          dataTable['output_type'] = 'display_data';\n",
              "          await google.colab.output.renderOutput(dataTable, element);\n",
              "          const docLink = document.createElement('div');\n",
              "          docLink.innerHTML = docLinkHtml;\n",
              "          element.appendChild(docLink);\n",
              "        }\n",
              "      </script>\n",
              "    </div>\n",
              "  </div>\n",
              "  "
            ]
          },
          "metadata": {},
          "execution_count": 42
        }
      ]
    },
    {
      "cell_type": "code",
      "source": [
        "def step_func(u):\n",
        "        return 1 if (u > 0) else 0"
      ],
      "metadata": {
        "id": "z6SyvXID_X7I"
      },
      "execution_count": 43,
      "outputs": []
    },
    {
      "cell_type": "code",
      "source": [
        "def perceptron(x, y, weights):\n",
        "  for i in np.arange(-1.0, 1.1, 0.1):\n",
        "    for j in np.arange(-1.0, 1.1, 0.1):\n",
        "      for q in np.arange(-1.0, 1.1, 0.1):\n",
        "        fail = 0\n",
        "        w = np.array([i, j, q])\n",
        "        for k, m in np.array(list(zip(x, y))):\n",
        "            k = np.insert(k, len(k), 1, axis=0)\n",
        "            y_pred = np.matmul(k, w.T)\n",
        "            y_pred = step_func(y_pred)\n",
        "            err = m - y_pred\n",
        "            if err != 0:\n",
        "              fail += 1\n",
        "        if fail == 0:\n",
        "          weights.append(w)"
      ],
      "metadata": {
        "id": "ZJeeD4Hv94mU"
      },
      "execution_count": 44,
      "outputs": []
    },
    {
      "cell_type": "code",
      "source": [
        "perceptron(x, y_or, w_or)\n",
        "perceptron(x, y_and, w_and)\n",
        "\n",
        "for k in x:\n",
        "  k = np.insert(k, len(k), 1, axis=0)\n",
        "  y_pred = np.dot(k, w_or[0].T)\n",
        "  y_pred_or.append(step_func(y_pred))\n",
        "  y_pred = np.dot(k, w_and[0].T)\n",
        "  y_pred_and.append(step_func(y_pred))\n",
        "\n",
        "df.insert(3, \"OR_pred\", y_pred_or, True)\n",
        "df.insert(5, \"AND_pred\", y_pred_and, True)"
      ],
      "metadata": {
        "id": "KDv89X-P-tTE"
      },
      "execution_count": 45,
      "outputs": []
    },
    {
      "cell_type": "code",
      "source": [
        "df"
      ],
      "metadata": {
        "colab": {
          "base_uri": "https://localhost:8080/",
          "height": 175
        },
        "id": "AzrVvhB49fNJ",
        "outputId": "ec5259e3-4976-4090-ee7a-c38f3f01e8ce"
      },
      "execution_count": 46,
      "outputs": [
        {
          "output_type": "execute_result",
          "data": {
            "text/plain": [
              "   X1  X2  OR  OR_pred  AND  AND_pred\n",
              "0   0   0   0        0    0         0\n",
              "1   0   1   1        1    0         0\n",
              "2   1   0   1        1    0         0\n",
              "3   1   1   1        1    1         1"
            ],
            "text/html": [
              "\n",
              "  <div id=\"df-ce62df40-1e5f-4ad2-a8dc-8594ff27743c\">\n",
              "    <div class=\"colab-df-container\">\n",
              "      <div>\n",
              "<style scoped>\n",
              "    .dataframe tbody tr th:only-of-type {\n",
              "        vertical-align: middle;\n",
              "    }\n",
              "\n",
              "    .dataframe tbody tr th {\n",
              "        vertical-align: top;\n",
              "    }\n",
              "\n",
              "    .dataframe thead th {\n",
              "        text-align: right;\n",
              "    }\n",
              "</style>\n",
              "<table border=\"1\" class=\"dataframe\">\n",
              "  <thead>\n",
              "    <tr style=\"text-align: right;\">\n",
              "      <th></th>\n",
              "      <th>X1</th>\n",
              "      <th>X2</th>\n",
              "      <th>OR</th>\n",
              "      <th>OR_pred</th>\n",
              "      <th>AND</th>\n",
              "      <th>AND_pred</th>\n",
              "    </tr>\n",
              "  </thead>\n",
              "  <tbody>\n",
              "    <tr>\n",
              "      <th>0</th>\n",
              "      <td>0</td>\n",
              "      <td>0</td>\n",
              "      <td>0</td>\n",
              "      <td>0</td>\n",
              "      <td>0</td>\n",
              "      <td>0</td>\n",
              "    </tr>\n",
              "    <tr>\n",
              "      <th>1</th>\n",
              "      <td>0</td>\n",
              "      <td>1</td>\n",
              "      <td>1</td>\n",
              "      <td>1</td>\n",
              "      <td>0</td>\n",
              "      <td>0</td>\n",
              "    </tr>\n",
              "    <tr>\n",
              "      <th>2</th>\n",
              "      <td>1</td>\n",
              "      <td>0</td>\n",
              "      <td>1</td>\n",
              "      <td>1</td>\n",
              "      <td>0</td>\n",
              "      <td>0</td>\n",
              "    </tr>\n",
              "    <tr>\n",
              "      <th>3</th>\n",
              "      <td>1</td>\n",
              "      <td>1</td>\n",
              "      <td>1</td>\n",
              "      <td>1</td>\n",
              "      <td>1</td>\n",
              "      <td>1</td>\n",
              "    </tr>\n",
              "  </tbody>\n",
              "</table>\n",
              "</div>\n",
              "      <button class=\"colab-df-convert\" onclick=\"convertToInteractive('df-ce62df40-1e5f-4ad2-a8dc-8594ff27743c')\"\n",
              "              title=\"Convert this dataframe to an interactive table.\"\n",
              "              style=\"display:none;\">\n",
              "        \n",
              "  <svg xmlns=\"http://www.w3.org/2000/svg\" height=\"24px\"viewBox=\"0 0 24 24\"\n",
              "       width=\"24px\">\n",
              "    <path d=\"M0 0h24v24H0V0z\" fill=\"none\"/>\n",
              "    <path d=\"M18.56 5.44l.94 2.06.94-2.06 2.06-.94-2.06-.94-.94-2.06-.94 2.06-2.06.94zm-11 1L8.5 8.5l.94-2.06 2.06-.94-2.06-.94L8.5 2.5l-.94 2.06-2.06.94zm10 10l.94 2.06.94-2.06 2.06-.94-2.06-.94-.94-2.06-.94 2.06-2.06.94z\"/><path d=\"M17.41 7.96l-1.37-1.37c-.4-.4-.92-.59-1.43-.59-.52 0-1.04.2-1.43.59L10.3 9.45l-7.72 7.72c-.78.78-.78 2.05 0 2.83L4 21.41c.39.39.9.59 1.41.59.51 0 1.02-.2 1.41-.59l7.78-7.78 2.81-2.81c.8-.78.8-2.07 0-2.86zM5.41 20L4 18.59l7.72-7.72 1.47 1.35L5.41 20z\"/>\n",
              "  </svg>\n",
              "      </button>\n",
              "      \n",
              "  <style>\n",
              "    .colab-df-container {\n",
              "      display:flex;\n",
              "      flex-wrap:wrap;\n",
              "      gap: 12px;\n",
              "    }\n",
              "\n",
              "    .colab-df-convert {\n",
              "      background-color: #E8F0FE;\n",
              "      border: none;\n",
              "      border-radius: 50%;\n",
              "      cursor: pointer;\n",
              "      display: none;\n",
              "      fill: #1967D2;\n",
              "      height: 32px;\n",
              "      padding: 0 0 0 0;\n",
              "      width: 32px;\n",
              "    }\n",
              "\n",
              "    .colab-df-convert:hover {\n",
              "      background-color: #E2EBFA;\n",
              "      box-shadow: 0px 1px 2px rgba(60, 64, 67, 0.3), 0px 1px 3px 1px rgba(60, 64, 67, 0.15);\n",
              "      fill: #174EA6;\n",
              "    }\n",
              "\n",
              "    [theme=dark] .colab-df-convert {\n",
              "      background-color: #3B4455;\n",
              "      fill: #D2E3FC;\n",
              "    }\n",
              "\n",
              "    [theme=dark] .colab-df-convert:hover {\n",
              "      background-color: #434B5C;\n",
              "      box-shadow: 0px 1px 3px 1px rgba(0, 0, 0, 0.15);\n",
              "      filter: drop-shadow(0px 1px 2px rgba(0, 0, 0, 0.3));\n",
              "      fill: #FFFFFF;\n",
              "    }\n",
              "  </style>\n",
              "\n",
              "      <script>\n",
              "        const buttonEl =\n",
              "          document.querySelector('#df-ce62df40-1e5f-4ad2-a8dc-8594ff27743c button.colab-df-convert');\n",
              "        buttonEl.style.display =\n",
              "          google.colab.kernel.accessAllowed ? 'block' : 'none';\n",
              "\n",
              "        async function convertToInteractive(key) {\n",
              "          const element = document.querySelector('#df-ce62df40-1e5f-4ad2-a8dc-8594ff27743c');\n",
              "          const dataTable =\n",
              "            await google.colab.kernel.invokeFunction('convertToInteractive',\n",
              "                                                     [key], {});\n",
              "          if (!dataTable) return;\n",
              "\n",
              "          const docLinkHtml = 'Like what you see? Visit the ' +\n",
              "            '<a target=\"_blank\" href=https://colab.research.google.com/notebooks/data_table.ipynb>data table notebook</a>'\n",
              "            + ' to learn more about interactive tables.';\n",
              "          element.innerHTML = '';\n",
              "          dataTable['output_type'] = 'display_data';\n",
              "          await google.colab.output.renderOutput(dataTable, element);\n",
              "          const docLink = document.createElement('div');\n",
              "          docLink.innerHTML = docLinkHtml;\n",
              "          element.appendChild(docLink);\n",
              "        }\n",
              "      </script>\n",
              "    </div>\n",
              "  </div>\n",
              "  "
            ]
          },
          "metadata": {},
          "execution_count": 46
        }
      ]
    },
    {
      "cell_type": "markdown",
      "source": [
        "# 2.\tОбучение однослойного персептрона  методами направленного обучения (по аналогии с советчиками)"
      ],
      "metadata": {
        "id": "sFO68NChOXyx"
      }
    },
    {
      "cell_type": "markdown",
      "source": [
        "* То же самое, что и ЛР№1, но используется не перебор, а направленное обучение\n",
        "* Веса корректируются исходя из ошибки\n",
        "* Обучающая выборка – таблицы истинности\n",
        "* Функция активация – ступенчатая. Предпочтительней – sign(x)\n",
        "* Начальное значение весов берем случайно\n",
        "* Последующее значение – wi+1 = wᵢ + Δw\n",
        "* Δwᵢ = ɛ * x * d * |wᵢ|\n",
        "* d = A – Y ошибка (разность между эталонным и расчетным значениями) "
      ],
      "metadata": {
        "id": "j7QEuFmxOisj"
      }
    },
    {
      "cell_type": "markdown",
      "source": [
        "![image.png](data:image/png;base64,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)"
      ],
      "metadata": {
        "id": "r6e3JiPXQtgR"
      }
    },
    {
      "cell_type": "code",
      "source": [
        "import numpy as np\n",
        "import pandas as pd\n",
        "\n",
        "X = np.array([[0, 0], [0, 1], [1, 0], [1, 1]])\n",
        "Y_or = np.array([0, 1, 1, 1])\n",
        "Y_and = np.array([0, 0, 0, 1])\n",
        "W_or = np.random.rand(3,)\n",
        "W_and = np.random.rand(3,)\n",
        "\n",
        "y_pred_or = []\n",
        "y_pred_and = []\n",
        "\n",
        "df = pd.DataFrame({'X1': X[:, 0], 'X2': X[:, 1], 'OR': Y_or, 'AND': Y_and},\n",
        "                  columns = ['X1', 'X2', 'OR', 'AND'])\n",
        "df"
      ],
      "metadata": {
        "id": "cI0fYnWmPrWQ",
        "colab": {
          "base_uri": "https://localhost:8080/",
          "height": 175
        },
        "outputId": "c1482724-0274-487f-b6b3-dd5876ca6c47"
      },
      "execution_count": 47,
      "outputs": [
        {
          "output_type": "execute_result",
          "data": {
            "text/plain": [
              "   X1  X2  OR  AND\n",
              "0   0   0   0    0\n",
              "1   0   1   1    0\n",
              "2   1   0   1    0\n",
              "3   1   1   1    1"
            ],
            "text/html": [
              "\n",
              "  <div id=\"df-40a17b33-9b9f-4e92-8c46-351de3c62079\">\n",
              "    <div class=\"colab-df-container\">\n",
              "      <div>\n",
              "<style scoped>\n",
              "    .dataframe tbody tr th:only-of-type {\n",
              "        vertical-align: middle;\n",
              "    }\n",
              "\n",
              "    .dataframe tbody tr th {\n",
              "        vertical-align: top;\n",
              "    }\n",
              "\n",
              "    .dataframe thead th {\n",
              "        text-align: right;\n",
              "    }\n",
              "</style>\n",
              "<table border=\"1\" class=\"dataframe\">\n",
              "  <thead>\n",
              "    <tr style=\"text-align: right;\">\n",
              "      <th></th>\n",
              "      <th>X1</th>\n",
              "      <th>X2</th>\n",
              "      <th>OR</th>\n",
              "      <th>AND</th>\n",
              "    </tr>\n",
              "  </thead>\n",
              "  <tbody>\n",
              "    <tr>\n",
              "      <th>0</th>\n",
              "      <td>0</td>\n",
              "      <td>0</td>\n",
              "      <td>0</td>\n",
              "      <td>0</td>\n",
              "    </tr>\n",
              "    <tr>\n",
              "      <th>1</th>\n",
              "      <td>0</td>\n",
              "      <td>1</td>\n",
              "      <td>1</td>\n",
              "      <td>0</td>\n",
              "    </tr>\n",
              "    <tr>\n",
              "      <th>2</th>\n",
              "      <td>1</td>\n",
              "      <td>0</td>\n",
              "      <td>1</td>\n",
              "      <td>0</td>\n",
              "    </tr>\n",
              "    <tr>\n",
              "      <th>3</th>\n",
              "      <td>1</td>\n",
              "      <td>1</td>\n",
              "      <td>1</td>\n",
              "      <td>1</td>\n",
              "    </tr>\n",
              "  </tbody>\n",
              "</table>\n",
              "</div>\n",
              "      <button class=\"colab-df-convert\" onclick=\"convertToInteractive('df-40a17b33-9b9f-4e92-8c46-351de3c62079')\"\n",
              "              title=\"Convert this dataframe to an interactive table.\"\n",
              "              style=\"display:none;\">\n",
              "        \n",
              "  <svg xmlns=\"http://www.w3.org/2000/svg\" height=\"24px\"viewBox=\"0 0 24 24\"\n",
              "       width=\"24px\">\n",
              "    <path d=\"M0 0h24v24H0V0z\" fill=\"none\"/>\n",
              "    <path d=\"M18.56 5.44l.94 2.06.94-2.06 2.06-.94-2.06-.94-.94-2.06-.94 2.06-2.06.94zm-11 1L8.5 8.5l.94-2.06 2.06-.94-2.06-.94L8.5 2.5l-.94 2.06-2.06.94zm10 10l.94 2.06.94-2.06 2.06-.94-2.06-.94-.94-2.06-.94 2.06-2.06.94z\"/><path d=\"M17.41 7.96l-1.37-1.37c-.4-.4-.92-.59-1.43-.59-.52 0-1.04.2-1.43.59L10.3 9.45l-7.72 7.72c-.78.78-.78 2.05 0 2.83L4 21.41c.39.39.9.59 1.41.59.51 0 1.02-.2 1.41-.59l7.78-7.78 2.81-2.81c.8-.78.8-2.07 0-2.86zM5.41 20L4 18.59l7.72-7.72 1.47 1.35L5.41 20z\"/>\n",
              "  </svg>\n",
              "      </button>\n",
              "      \n",
              "  <style>\n",
              "    .colab-df-container {\n",
              "      display:flex;\n",
              "      flex-wrap:wrap;\n",
              "      gap: 12px;\n",
              "    }\n",
              "\n",
              "    .colab-df-convert {\n",
              "      background-color: #E8F0FE;\n",
              "      border: none;\n",
              "      border-radius: 50%;\n",
              "      cursor: pointer;\n",
              "      display: none;\n",
              "      fill: #1967D2;\n",
              "      height: 32px;\n",
              "      padding: 0 0 0 0;\n",
              "      width: 32px;\n",
              "    }\n",
              "\n",
              "    .colab-df-convert:hover {\n",
              "      background-color: #E2EBFA;\n",
              "      box-shadow: 0px 1px 2px rgba(60, 64, 67, 0.3), 0px 1px 3px 1px rgba(60, 64, 67, 0.15);\n",
              "      fill: #174EA6;\n",
              "    }\n",
              "\n",
              "    [theme=dark] .colab-df-convert {\n",
              "      background-color: #3B4455;\n",
              "      fill: #D2E3FC;\n",
              "    }\n",
              "\n",
              "    [theme=dark] .colab-df-convert:hover {\n",
              "      background-color: #434B5C;\n",
              "      box-shadow: 0px 1px 3px 1px rgba(0, 0, 0, 0.15);\n",
              "      filter: drop-shadow(0px 1px 2px rgba(0, 0, 0, 0.3));\n",
              "      fill: #FFFFFF;\n",
              "    }\n",
              "  </style>\n",
              "\n",
              "      <script>\n",
              "        const buttonEl =\n",
              "          document.querySelector('#df-40a17b33-9b9f-4e92-8c46-351de3c62079 button.colab-df-convert');\n",
              "        buttonEl.style.display =\n",
              "          google.colab.kernel.accessAllowed ? 'block' : 'none';\n",
              "\n",
              "        async function convertToInteractive(key) {\n",
              "          const element = document.querySelector('#df-40a17b33-9b9f-4e92-8c46-351de3c62079');\n",
              "          const dataTable =\n",
              "            await google.colab.kernel.invokeFunction('convertToInteractive',\n",
              "                                                     [key], {});\n",
              "          if (!dataTable) return;\n",
              "\n",
              "          const docLinkHtml = 'Like what you see? Visit the ' +\n",
              "            '<a target=\"_blank\" href=https://colab.research.google.com/notebooks/data_table.ipynb>data table notebook</a>'\n",
              "            + ' to learn more about interactive tables.';\n",
              "          element.innerHTML = '';\n",
              "          dataTable['output_type'] = 'display_data';\n",
              "          await google.colab.output.renderOutput(dataTable, element);\n",
              "          const docLink = document.createElement('div');\n",
              "          docLink.innerHTML = docLinkHtml;\n",
              "          element.appendChild(docLink);\n",
              "        }\n",
              "      </script>\n",
              "    </div>\n",
              "  </div>\n",
              "  "
            ]
          },
          "metadata": {},
          "execution_count": 47
        }
      ]
    },
    {
      "cell_type": "code",
      "source": [
        "def sign(u):\n",
        "  return 1 if (u > 0) else 0 "
      ],
      "metadata": {
        "id": "sbuhXdzeQ0DM"
      },
      "execution_count": 48,
      "outputs": []
    },
    {
      "cell_type": "code",
      "source": [
        "def perceptron(x_i, w):\n",
        "  sum = np.matmul(x_i, w.T)\n",
        "  y_pred = sign(sum)\n",
        "  return y_pred"
      ],
      "metadata": {
        "id": "km-1Z5N5Q2LC"
      },
      "execution_count": 49,
      "outputs": []
    },
    {
      "cell_type": "code",
      "source": [
        "def training(x, y, w, b = 1, lr = 0.1, num_iter = 50):\n",
        "  for iter_num in range(num_iter):\n",
        "    for x_i, y_i in np.array(list(zip(x, y))):\n",
        "      x_i = np.insert(x_i, len(x_i), b, axis = 0)\n",
        "      y_pred = perceptron(x_i, w)\n",
        "      err = y_i - y_pred\n",
        "      w += lr*err*x_i\n",
        "  return w"
      ],
      "metadata": {
        "id": "nc1rR9UlQjUJ"
      },
      "execution_count": 50,
      "outputs": []
    },
    {
      "cell_type": "code",
      "source": [
        "W_or = np.copy(training(X, Y_or, W_or))\n",
        "W_and = np.copy(training(X, Y_and, W_and))\n",
        "\n",
        "for k in X:\n",
        "  k = np.insert(k, len(k), 1, axis = 0)\n",
        "  y_pred_or.append(perceptron(k, W_or))\n",
        "  y_pred_and.append(perceptron(k, W_and))"
      ],
      "metadata": {
        "id": "BZq-EY_zQ8LI"
      },
      "execution_count": 51,
      "outputs": []
    },
    {
      "cell_type": "code",
      "source": [
        "df.insert(3, \"OR_pred\", y_pred_or, True)\n",
        "df.insert(5, \"AND_pred\", y_pred_and, True)"
      ],
      "metadata": {
        "id": "TEFC9JukUDRv"
      },
      "execution_count": 52,
      "outputs": []
    },
    {
      "cell_type": "code",
      "source": [
        "df"
      ],
      "metadata": {
        "colab": {
          "base_uri": "https://localhost:8080/",
          "height": 175
        },
        "id": "iaxcoeP5SMJj",
        "outputId": "a3f1acf7-dda4-46f0-aae9-bab9bbddeb7d"
      },
      "execution_count": 53,
      "outputs": [
        {
          "output_type": "execute_result",
          "data": {
            "text/plain": [
              "   X1  X2  OR  OR_pred  AND  AND_pred\n",
              "0   0   0   0        0    0         0\n",
              "1   0   1   1        1    0         0\n",
              "2   1   0   1        1    0         0\n",
              "3   1   1   1        1    1         1"
            ],
            "text/html": [
              "\n",
              "  <div id=\"df-de18e3e6-f1a2-4317-89f1-e5b6884b0a0c\">\n",
              "    <div class=\"colab-df-container\">\n",
              "      <div>\n",
              "<style scoped>\n",
              "    .dataframe tbody tr th:only-of-type {\n",
              "        vertical-align: middle;\n",
              "    }\n",
              "\n",
              "    .dataframe tbody tr th {\n",
              "        vertical-align: top;\n",
              "    }\n",
              "\n",
              "    .dataframe thead th {\n",
              "        text-align: right;\n",
              "    }\n",
              "</style>\n",
              "<table border=\"1\" class=\"dataframe\">\n",
              "  <thead>\n",
              "    <tr style=\"text-align: right;\">\n",
              "      <th></th>\n",
              "      <th>X1</th>\n",
              "      <th>X2</th>\n",
              "      <th>OR</th>\n",
              "      <th>OR_pred</th>\n",
              "      <th>AND</th>\n",
              "      <th>AND_pred</th>\n",
              "    </tr>\n",
              "  </thead>\n",
              "  <tbody>\n",
              "    <tr>\n",
              "      <th>0</th>\n",
              "      <td>0</td>\n",
              "      <td>0</td>\n",
              "      <td>0</td>\n",
              "      <td>0</td>\n",
              "      <td>0</td>\n",
              "      <td>0</td>\n",
              "    </tr>\n",
              "    <tr>\n",
              "      <th>1</th>\n",
              "      <td>0</td>\n",
              "      <td>1</td>\n",
              "      <td>1</td>\n",
              "      <td>1</td>\n",
              "      <td>0</td>\n",
              "      <td>0</td>\n",
              "    </tr>\n",
              "    <tr>\n",
              "      <th>2</th>\n",
              "      <td>1</td>\n",
              "      <td>0</td>\n",
              "      <td>1</td>\n",
              "      <td>1</td>\n",
              "      <td>0</td>\n",
              "      <td>0</td>\n",
              "    </tr>\n",
              "    <tr>\n",
              "      <th>3</th>\n",
              "      <td>1</td>\n",
              "      <td>1</td>\n",
              "      <td>1</td>\n",
              "      <td>1</td>\n",
              "      <td>1</td>\n",
              "      <td>1</td>\n",
              "    </tr>\n",
              "  </tbody>\n",
              "</table>\n",
              "</div>\n",
              "      <button class=\"colab-df-convert\" onclick=\"convertToInteractive('df-de18e3e6-f1a2-4317-89f1-e5b6884b0a0c')\"\n",
              "              title=\"Convert this dataframe to an interactive table.\"\n",
              "              style=\"display:none;\">\n",
              "        \n",
              "  <svg xmlns=\"http://www.w3.org/2000/svg\" height=\"24px\"viewBox=\"0 0 24 24\"\n",
              "       width=\"24px\">\n",
              "    <path d=\"M0 0h24v24H0V0z\" fill=\"none\"/>\n",
              "    <path d=\"M18.56 5.44l.94 2.06.94-2.06 2.06-.94-2.06-.94-.94-2.06-.94 2.06-2.06.94zm-11 1L8.5 8.5l.94-2.06 2.06-.94-2.06-.94L8.5 2.5l-.94 2.06-2.06.94zm10 10l.94 2.06.94-2.06 2.06-.94-2.06-.94-.94-2.06-.94 2.06-2.06.94z\"/><path d=\"M17.41 7.96l-1.37-1.37c-.4-.4-.92-.59-1.43-.59-.52 0-1.04.2-1.43.59L10.3 9.45l-7.72 7.72c-.78.78-.78 2.05 0 2.83L4 21.41c.39.39.9.59 1.41.59.51 0 1.02-.2 1.41-.59l7.78-7.78 2.81-2.81c.8-.78.8-2.07 0-2.86zM5.41 20L4 18.59l7.72-7.72 1.47 1.35L5.41 20z\"/>\n",
              "  </svg>\n",
              "      </button>\n",
              "      \n",
              "  <style>\n",
              "    .colab-df-container {\n",
              "      display:flex;\n",
              "      flex-wrap:wrap;\n",
              "      gap: 12px;\n",
              "    }\n",
              "\n",
              "    .colab-df-convert {\n",
              "      background-color: #E8F0FE;\n",
              "      border: none;\n",
              "      border-radius: 50%;\n",
              "      cursor: pointer;\n",
              "      display: none;\n",
              "      fill: #1967D2;\n",
              "      height: 32px;\n",
              "      padding: 0 0 0 0;\n",
              "      width: 32px;\n",
              "    }\n",
              "\n",
              "    .colab-df-convert:hover {\n",
              "      background-color: #E2EBFA;\n",
              "      box-shadow: 0px 1px 2px rgba(60, 64, 67, 0.3), 0px 1px 3px 1px rgba(60, 64, 67, 0.15);\n",
              "      fill: #174EA6;\n",
              "    }\n",
              "\n",
              "    [theme=dark] .colab-df-convert {\n",
              "      background-color: #3B4455;\n",
              "      fill: #D2E3FC;\n",
              "    }\n",
              "\n",
              "    [theme=dark] .colab-df-convert:hover {\n",
              "      background-color: #434B5C;\n",
              "      box-shadow: 0px 1px 3px 1px rgba(0, 0, 0, 0.15);\n",
              "      filter: drop-shadow(0px 1px 2px rgba(0, 0, 0, 0.3));\n",
              "      fill: #FFFFFF;\n",
              "    }\n",
              "  </style>\n",
              "\n",
              "      <script>\n",
              "        const buttonEl =\n",
              "          document.querySelector('#df-de18e3e6-f1a2-4317-89f1-e5b6884b0a0c button.colab-df-convert');\n",
              "        buttonEl.style.display =\n",
              "          google.colab.kernel.accessAllowed ? 'block' : 'none';\n",
              "\n",
              "        async function convertToInteractive(key) {\n",
              "          const element = document.querySelector('#df-de18e3e6-f1a2-4317-89f1-e5b6884b0a0c');\n",
              "          const dataTable =\n",
              "            await google.colab.kernel.invokeFunction('convertToInteractive',\n",
              "                                                     [key], {});\n",
              "          if (!dataTable) return;\n",
              "\n",
              "          const docLinkHtml = 'Like what you see? Visit the ' +\n",
              "            '<a target=\"_blank\" href=https://colab.research.google.com/notebooks/data_table.ipynb>data table notebook</a>'\n",
              "            + ' to learn more about interactive tables.';\n",
              "          element.innerHTML = '';\n",
              "          dataTable['output_type'] = 'display_data';\n",
              "          await google.colab.output.renderOutput(dataTable, element);\n",
              "          const docLink = document.createElement('div');\n",
              "          docLink.innerHTML = docLinkHtml;\n",
              "          element.appendChild(docLink);\n",
              "        }\n",
              "      </script>\n",
              "    </div>\n",
              "  </div>\n",
              "  "
            ]
          },
          "metadata": {},
          "execution_count": 53
        }
      ]
    },
    {
      "cell_type": "markdown",
      "source": [
        "# 3.\tОбучение многослойной нейронной сети решению линейно неразделимых задач. Функция «Exclusive Or»"
      ],
      "metadata": {
        "id": "Gsn_TAkseO6I"
      }
    },
    {
      "cell_type": "markdown",
      "source": [
        "* То же самое, что и Лаб. 2, но используется многослойный персептрон\n",
        "* НС: 2 слоя, 2 входа, 1 выход"
      ],
      "metadata": {
        "id": "EB1r4WZ2ecfn"
      }
    },
    {
      "cell_type": "markdown",
      "source": [
        "![image.png](data:image/png;base64,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)"
      ],
      "metadata": {
        "id": "fQaGSYewvCfp"
      }
    },
    {
      "cell_type": "code",
      "source": [
        "import numpy as np\n",
        "\n",
        "X = np.array([[0,0], [0,1], [1,0], [1,1]])\n",
        "X_not = np.array([[0], [1]])\n",
        "\n",
        "Y_xor = np.array([0, 1, 1, 0])\n",
        "Y_or = np.array([0, 1, 1, 1])\n",
        "Y_and = np.array([0, 0, 0, 1])\n",
        "Y_not = np.array([1, 0])\n",
        "\n",
        "W1 = np.random.rand(3,)\n",
        "W2 = np.random.rand(3,)\n",
        "W3 = np.random.rand(2,)\n",
        "W4 = np.random.rand(3,)\n",
        "\n",
        "def sign(u):\n",
        "  return 1 if (u > 0) else 0\n",
        "\n",
        "def perceptron(x_i, w):\n",
        "  # взвешенная сумма\n",
        "  sum = np.dot(x_i, w.T)\n",
        "  y_pred = sign(sum)\n",
        "  return y_pred\n",
        "\n",
        "def training(x, y, w, b = 1, lr = 0.1, num_iter = 50):\n",
        "    for iter_num in range(num_iter):\n",
        "      for x_i, y_i in np.array(list(zip(x, y))):\n",
        "        x_i = np.insert(x_i, len(x_i), b, axis = 0)\n",
        "        y_pred = perceptron(x_i, w)       \n",
        "        err = y_i - y_pred\n",
        "        w += lr*err*x_i\n",
        "    return w\n",
        "\n",
        "def two_layer_perceptron(x, w1, w2, w3):\n",
        "  \n",
        "  h_and = sign(np.dot(x, w2.T))*w3[0]\n",
        "  h_or = sign(np.dot(x, w1.T))\n",
        "  \n",
        "  sum = np.array([h_and, h_and])\n",
        "  sum = np.insert(sum, len(sum), 1, axis = 0)\n",
        "\n",
        "  y_pred = np.dot(sum, w2.T)\n",
        "  \n",
        "  return y_pred\n",
        "\n",
        "def training_mlnn(x, y, w1, w2, w3, w4, b = 1, lr = 0.1, num_iter = 50):\n",
        "    \"\"\"\n",
        "    :x: x1 and x1\n",
        "    :y: y\n",
        "    :w: weights vector\n",
        "    :b: bias\n",
        "    :lr: learning rate\n",
        "    :num_iter: number of iterations\n",
        "    \"\"\"\n",
        "    for iter_num in range(num_iter):\n",
        "      for x_i, y_i in np.array(list(zip(x, y))):\n",
        "        x_i = np.insert(x_i, len(x_i), b, axis = 0)\n",
        "        y_pred = sign(two_layer_perceptron(x_i, w1, w2, w3))\n",
        "        # ошибка\n",
        "        err = y_i - y_pred\n",
        "        # обновление весов\n",
        "        w4 += lr*err*x_i\n",
        "    return w4\n",
        "\n",
        "# обучение логическому ИЛИ\n",
        "W1 = np.copy(training(X, Y_or, W1))\n",
        "# обучение логическому И\n",
        "W2 = np.copy(training(X, Y_and, W2))\n",
        "# обучение логическому НЕ\n",
        "W3 = np.copy(training(X_not, Y_not, W3))\n",
        "\n",
        "# W4 = np.copy(training_mlnn(X, Y_xor, W1, W2, W3, W4))\n",
        "# print(W4)\n",
        "\n",
        "print('NOT:')\n",
        "for i in X_not:\n",
        "\tx = np.insert(i, len(i), 1, axis = 0)\n",
        "\ty_pred = np.dot(x, W3.T)\n",
        "\toutp_pn = sign(y_pred)\n",
        "\tprint(i, sign(outp_pn))\n",
        " \n",
        "print('OR:')\n",
        "for i in X:\n",
        "\tx = np.insert(i, len(i), 1, axis = 0)\n",
        "\ty_pred = np.matmul(x, W1.T)\n",
        "\toutp_pn = sign(y_pred)\n",
        "\tprint(i, sign(outp_pn))\n",
        " \n",
        "print('AND:')\n",
        "for i in X:\n",
        "\tx = np.insert(i, len(i), 1, axis = 0)\n",
        "\ty_pred = np.matmul(x, W2.T)\n",
        "\toutp_pn = sign(y_pred)\n",
        "\tprint(i, sign(outp_pn))\n",
        " \n",
        "print('XOR:')\n",
        "for i in X:\n",
        "\tx = np.insert(i, len(i), 1, axis = 0)\n",
        "\ty_pred = np.matmul(x, W4.T)\n",
        "\toutp_pn = sign(y_pred)\n",
        "\tprint(i, sign(outp_pn), sign(two_layer_perceptron(x, W1,W2,W3)))"
      ],
      "metadata": {
        "id": "jMvgunQeciG8",
        "colab": {
          "base_uri": "https://localhost:8080/"
        },
        "outputId": "5db0d206-02f8-4982-ca02-3e5d62a78e4c"
      },
      "execution_count": 1,
      "outputs": [
        {
          "output_type": "stream",
          "name": "stdout",
          "text": [
            "NOT:\n",
            "[0] 1\n",
            "[1] 0\n",
            "OR:\n",
            "[0 0] 0\n",
            "[0 1] 1\n",
            "[1 0] 1\n",
            "[1 1] 1\n",
            "AND:\n",
            "[0 0] 0\n",
            "[0 1] 0\n",
            "[1 0] 0\n",
            "[1 1] 1\n",
            "XOR:\n",
            "[0 0] 1 0\n",
            "[0 1] 1 0\n",
            "[1 0] 1 0\n",
            "[1 1] 1 0\n"
          ]
        },
        {
          "output_type": "stream",
          "name": "stderr",
          "text": [
            "/usr/local/lib/python3.7/dist-packages/ipykernel_launcher.py:27: VisibleDeprecationWarning: Creating an ndarray from ragged nested sequences (which is a list-or-tuple of lists-or-tuples-or ndarrays with different lengths or shapes) is deprecated. If you meant to do this, you must specify 'dtype=object' when creating the ndarray.\n"
          ]
        }
      ]
    },
    {
      "cell_type": "code",
      "source": [
        "import warnings\n",
        "warnings.filterwarnings(\"ignore\", category=np.VisibleDeprecationWarning)"
      ],
      "metadata": {
        "id": "MUq5O8jHbRNx"
      },
      "execution_count": null,
      "outputs": []
    },
    {
      "cell_type": "code",
      "source": [],
      "metadata": {
        "id": "HTHJo48ztd-j"
      },
      "execution_count": null,
      "outputs": []
    },
    {
      "cell_type": "markdown",
      "source": [
        "# 4.\tОбучение многослойной нейронной сети по методу обратного распространения ошибки."
      ],
      "metadata": {
        "id": "HQkRiLVwqvpk"
      }
    },
    {
      "cell_type": "markdown",
      "source": [
        "* То же самое, что и Лаб. 3, но уже используется метод градиентного спуска и алгоритм обратного распространения ошибки\n",
        "* НС: 3 слоя 3 входа, 1 выход"
      ],
      "metadata": {
        "id": "57BjCCPYrCyR"
      }
    },
    {
      "cell_type": "code",
      "source": [],
      "metadata": {
        "id": "ICwQrPpRbTb3"
      },
      "execution_count": null,
      "outputs": []
    },
    {
      "cell_type": "markdown",
      "source": [
        "# 5.\tОбучение нейронной сети для моделирования работы 7 сегментного индикатора с 4 выходами\n"
      ],
      "metadata": {
        "id": "e4FTQAnsxKrX"
      }
    },
    {
      "cell_type": "markdown",
      "source": [
        "# 6.\tОбучение нейронной сети для моделирования работы 7 сегментного индикатора с 10  выходами. Визуализация индикатора"
      ],
      "metadata": {
        "id": "YE_YpeFlxiaG"
      }
    },
    {
      "cell_type": "markdown",
      "source": [
        "# 7.\tОбучение нейронной сети для моделирования задач прогнозирования."
      ],
      "metadata": {
        "id": "6j-uw2yqxlbJ"
      }
    },
    {
      "cell_type": "markdown",
      "source": [
        "# 8.\tОбучение нейронной сети для моделирования сети или карты Кохонена"
      ],
      "metadata": {
        "id": "I77XzshJxpWt"
      }
    }
  ]
}